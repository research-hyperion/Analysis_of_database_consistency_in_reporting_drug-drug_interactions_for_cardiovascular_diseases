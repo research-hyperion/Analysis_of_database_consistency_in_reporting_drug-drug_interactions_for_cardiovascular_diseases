{
 "cells": [
  {
   "cell_type": "code",
   "execution_count": 1,
   "id": "c2461c59-9408-498d-8374-ccee1416a3ae",
   "metadata": {},
   "outputs": [
    {
     "name": "stdout",
     "output_type": "stream",
     "text": [
      "Requirement already satisfied: tqdm in /opt/conda/lib/python3.11/site-packages (4.66.1)\n",
      "Requirement already satisfied: pandas in /opt/conda/lib/python3.11/site-packages (2.1.1)\n",
      "Requirement already satisfied: statsmodels in /opt/conda/lib/python3.11/site-packages (0.14.0)\n",
      "Requirement already satisfied: openpyxl in /opt/conda/lib/python3.11/site-packages (3.1.2)\n",
      "Requirement already satisfied: numpy>=1.23.2 in /opt/conda/lib/python3.11/site-packages (from pandas) (1.26.0)\n",
      "Requirement already satisfied: python-dateutil>=2.8.2 in /opt/conda/lib/python3.11/site-packages (from pandas) (2.8.2)\n",
      "Requirement already satisfied: pytz>=2020.1 in /opt/conda/lib/python3.11/site-packages (from pandas) (2023.3.post1)\n",
      "Requirement already satisfied: tzdata>=2022.1 in /opt/conda/lib/python3.11/site-packages (from pandas) (2023.3)\n",
      "Requirement already satisfied: scipy!=1.9.2,>=1.4 in /opt/conda/lib/python3.11/site-packages (from statsmodels) (1.11.2)\n",
      "Requirement already satisfied: patsy>=0.5.2 in /opt/conda/lib/python3.11/site-packages (from statsmodels) (0.5.3)\n",
      "Requirement already satisfied: packaging>=21.3 in /opt/conda/lib/python3.11/site-packages (from statsmodels) (23.1)\n",
      "Requirement already satisfied: et-xmlfile in /opt/conda/lib/python3.11/site-packages (from openpyxl) (1.1.0)\n",
      "Requirement already satisfied: six in /opt/conda/lib/python3.11/site-packages (from patsy>=0.5.2->statsmodels) (1.16.0)\n"
     ]
    }
   ],
   "source": [
    "!pip install tqdm pandas statsmodels openpyxl"
   ]
  },
  {
   "cell_type": "code",
   "execution_count": 2,
   "id": "dd78b7c7-d19f-43ad-ae1e-6106bec27d33",
   "metadata": {},
   "outputs": [],
   "source": [
    "import pandas as pd\n",
    "import numpy as np\n",
    "from tqdm import tqdm"
   ]
  },
  {
   "cell_type": "code",
   "execution_count": 3,
   "id": "c575e95c-a438-4285-8a47-01b465a8c734",
   "metadata": {},
   "outputs": [],
   "source": [
    "ROOT_FOLDER = \"data/\""
   ]
  },
  {
   "cell_type": "code",
   "execution_count": 4,
   "id": "83821955-4927-475d-ae65-43b9f180c746",
   "metadata": {},
   "outputs": [],
   "source": [
    "DATABASE_C_PAIRS = \"output_data_c.xlsx\"\n",
    "DATABASE_OTHER_PAIRS = \"output_data_c_others_all.xlsx\"\n"
   ]
  },
  {
   "cell_type": "code",
   "execution_count": 5,
   "id": "2f459837-8875-4180-8801-1093603edc79",
   "metadata": {},
   "outputs": [],
   "source": [
    "from statsmodels.stats import inter_rater as irr"
   ]
  },
  {
   "cell_type": "code",
   "execution_count": 6,
   "id": "760c00aa-0d33-4ad1-9ad3-a44c33ec9055",
   "metadata": {},
   "outputs": [],
   "source": [
    "NUMBER_OF_CATEGORIES = 5"
   ]
  },
  {
   "cell_type": "code",
   "execution_count": 7,
   "id": "82ba74fc-5624-4415-8d47-ed3c56007b4d",
   "metadata": {},
   "outputs": [],
   "source": [
    "NUMBER_OF_RATERS = 2"
   ]
  },
  {
   "cell_type": "code",
   "execution_count": 8,
   "id": "5fbbe159-f71e-43d8-a449-20e3bbe5b103",
   "metadata": {},
   "outputs": [],
   "source": [
    "def calculate_fleiss_kappa(drug_list):\n",
    "    drug_list_len = len(drug_list)\n",
    "    data_matrix = np.zeros(shape=(drug_list_len,NUMBER_OF_RATERS), dtype=int)\n",
    "    for i in range(drug_list_len):\n",
    "        entry = drug_list[i]\n",
    "        for j in range(0, NUMBER_OF_RATERS):\n",
    "            data_matrix[i,j] = entry[j+2]\n",
    "    agg,cat = irr.aggregate_raters(data_matrix) # returns a tuple (data, categories)\n",
    "    fleiss_score = irr.fleiss_kappa(agg, method = 'fleiss')\n",
    "    #print(agg)\n",
    "    #print(fleiss_score)\n",
    "    if np.isnan(fleiss_score):\n",
    "        return np.finfo(np.float64).max\n",
    "    return fleiss_score"
   ]
  },
  {
   "cell_type": "markdown",
   "id": "790990eb-65b3-466c-b769-c21fb84c4be2",
   "metadata": {},
   "source": [
    "### Only C category interactions"
   ]
  },
  {
   "cell_type": "code",
   "execution_count": 9,
   "id": "07358185-c808-4e70-b3e4-f6986f1bd29e",
   "metadata": {},
   "outputs": [
    {
     "ename": "ValueError",
     "evalue": "Worksheet named '2 baze de date_ATC_all' not found",
     "output_type": "error",
     "traceback": [
      "\u001b[0;31m---------------------------------------------------------------------------\u001b[0m",
      "\u001b[0;31mValueError\u001b[0m                                Traceback (most recent call last)",
      "Cell \u001b[0;32mIn[9], line 1\u001b[0m\n\u001b[0;32m----> 1\u001b[0m output_df_c \u001b[38;5;241m=\u001b[39m \u001b[43mpd\u001b[49m\u001b[38;5;241;43m.\u001b[39;49m\u001b[43mread_excel\u001b[49m\u001b[43m(\u001b[49m\u001b[43mROOT_FOLDER\u001b[49m\u001b[38;5;241;43m+\u001b[39;49m\u001b[43mDATABASE_C_PAIRS\u001b[49m\u001b[43m,\u001b[49m\u001b[43m \u001b[49m\u001b[43msheet_name\u001b[49m\u001b[43m \u001b[49m\u001b[38;5;241;43m=\u001b[39;49m\u001b[43m \u001b[49m\u001b[43mSHEET_NAME\u001b[49m\u001b[43m)\u001b[49m\n",
      "File \u001b[0;32m/opt/conda/lib/python3.11/site-packages/pandas/io/excel/_base.py:517\u001b[0m, in \u001b[0;36mread_excel\u001b[0;34m(io, sheet_name, header, names, index_col, usecols, dtype, engine, converters, true_values, false_values, skiprows, nrows, na_values, keep_default_na, na_filter, verbose, parse_dates, date_parser, date_format, thousands, decimal, comment, skipfooter, storage_options, dtype_backend, engine_kwargs)\u001b[0m\n\u001b[1;32m    511\u001b[0m     \u001b[38;5;28;01mraise\u001b[39;00m \u001b[38;5;167;01mValueError\u001b[39;00m(\n\u001b[1;32m    512\u001b[0m         \u001b[38;5;124m\"\u001b[39m\u001b[38;5;124mEngine should not be specified when passing \u001b[39m\u001b[38;5;124m\"\u001b[39m\n\u001b[1;32m    513\u001b[0m         \u001b[38;5;124m\"\u001b[39m\u001b[38;5;124man ExcelFile - ExcelFile already has the engine set\u001b[39m\u001b[38;5;124m\"\u001b[39m\n\u001b[1;32m    514\u001b[0m     )\n\u001b[1;32m    516\u001b[0m \u001b[38;5;28;01mtry\u001b[39;00m:\n\u001b[0;32m--> 517\u001b[0m     data \u001b[38;5;241m=\u001b[39m \u001b[43mio\u001b[49m\u001b[38;5;241;43m.\u001b[39;49m\u001b[43mparse\u001b[49m\u001b[43m(\u001b[49m\n\u001b[1;32m    518\u001b[0m \u001b[43m        \u001b[49m\u001b[43msheet_name\u001b[49m\u001b[38;5;241;43m=\u001b[39;49m\u001b[43msheet_name\u001b[49m\u001b[43m,\u001b[49m\n\u001b[1;32m    519\u001b[0m \u001b[43m        \u001b[49m\u001b[43mheader\u001b[49m\u001b[38;5;241;43m=\u001b[39;49m\u001b[43mheader\u001b[49m\u001b[43m,\u001b[49m\n\u001b[1;32m    520\u001b[0m \u001b[43m        \u001b[49m\u001b[43mnames\u001b[49m\u001b[38;5;241;43m=\u001b[39;49m\u001b[43mnames\u001b[49m\u001b[43m,\u001b[49m\n\u001b[1;32m    521\u001b[0m \u001b[43m        \u001b[49m\u001b[43mindex_col\u001b[49m\u001b[38;5;241;43m=\u001b[39;49m\u001b[43mindex_col\u001b[49m\u001b[43m,\u001b[49m\n\u001b[1;32m    522\u001b[0m \u001b[43m        \u001b[49m\u001b[43musecols\u001b[49m\u001b[38;5;241;43m=\u001b[39;49m\u001b[43musecols\u001b[49m\u001b[43m,\u001b[49m\n\u001b[1;32m    523\u001b[0m \u001b[43m        \u001b[49m\u001b[43mdtype\u001b[49m\u001b[38;5;241;43m=\u001b[39;49m\u001b[43mdtype\u001b[49m\u001b[43m,\u001b[49m\n\u001b[1;32m    524\u001b[0m \u001b[43m        \u001b[49m\u001b[43mconverters\u001b[49m\u001b[38;5;241;43m=\u001b[39;49m\u001b[43mconverters\u001b[49m\u001b[43m,\u001b[49m\n\u001b[1;32m    525\u001b[0m \u001b[43m        \u001b[49m\u001b[43mtrue_values\u001b[49m\u001b[38;5;241;43m=\u001b[39;49m\u001b[43mtrue_values\u001b[49m\u001b[43m,\u001b[49m\n\u001b[1;32m    526\u001b[0m \u001b[43m        \u001b[49m\u001b[43mfalse_values\u001b[49m\u001b[38;5;241;43m=\u001b[39;49m\u001b[43mfalse_values\u001b[49m\u001b[43m,\u001b[49m\n\u001b[1;32m    527\u001b[0m \u001b[43m        \u001b[49m\u001b[43mskiprows\u001b[49m\u001b[38;5;241;43m=\u001b[39;49m\u001b[43mskiprows\u001b[49m\u001b[43m,\u001b[49m\n\u001b[1;32m    528\u001b[0m \u001b[43m        \u001b[49m\u001b[43mnrows\u001b[49m\u001b[38;5;241;43m=\u001b[39;49m\u001b[43mnrows\u001b[49m\u001b[43m,\u001b[49m\n\u001b[1;32m    529\u001b[0m \u001b[43m        \u001b[49m\u001b[43mna_values\u001b[49m\u001b[38;5;241;43m=\u001b[39;49m\u001b[43mna_values\u001b[49m\u001b[43m,\u001b[49m\n\u001b[1;32m    530\u001b[0m \u001b[43m        \u001b[49m\u001b[43mkeep_default_na\u001b[49m\u001b[38;5;241;43m=\u001b[39;49m\u001b[43mkeep_default_na\u001b[49m\u001b[43m,\u001b[49m\n\u001b[1;32m    531\u001b[0m \u001b[43m        \u001b[49m\u001b[43mna_filter\u001b[49m\u001b[38;5;241;43m=\u001b[39;49m\u001b[43mna_filter\u001b[49m\u001b[43m,\u001b[49m\n\u001b[1;32m    532\u001b[0m \u001b[43m        \u001b[49m\u001b[43mverbose\u001b[49m\u001b[38;5;241;43m=\u001b[39;49m\u001b[43mverbose\u001b[49m\u001b[43m,\u001b[49m\n\u001b[1;32m    533\u001b[0m \u001b[43m        \u001b[49m\u001b[43mparse_dates\u001b[49m\u001b[38;5;241;43m=\u001b[39;49m\u001b[43mparse_dates\u001b[49m\u001b[43m,\u001b[49m\n\u001b[1;32m    534\u001b[0m \u001b[43m        \u001b[49m\u001b[43mdate_parser\u001b[49m\u001b[38;5;241;43m=\u001b[39;49m\u001b[43mdate_parser\u001b[49m\u001b[43m,\u001b[49m\n\u001b[1;32m    535\u001b[0m \u001b[43m        \u001b[49m\u001b[43mdate_format\u001b[49m\u001b[38;5;241;43m=\u001b[39;49m\u001b[43mdate_format\u001b[49m\u001b[43m,\u001b[49m\n\u001b[1;32m    536\u001b[0m \u001b[43m        \u001b[49m\u001b[43mthousands\u001b[49m\u001b[38;5;241;43m=\u001b[39;49m\u001b[43mthousands\u001b[49m\u001b[43m,\u001b[49m\n\u001b[1;32m    537\u001b[0m \u001b[43m        \u001b[49m\u001b[43mdecimal\u001b[49m\u001b[38;5;241;43m=\u001b[39;49m\u001b[43mdecimal\u001b[49m\u001b[43m,\u001b[49m\n\u001b[1;32m    538\u001b[0m \u001b[43m        \u001b[49m\u001b[43mcomment\u001b[49m\u001b[38;5;241;43m=\u001b[39;49m\u001b[43mcomment\u001b[49m\u001b[43m,\u001b[49m\n\u001b[1;32m    539\u001b[0m \u001b[43m        \u001b[49m\u001b[43mskipfooter\u001b[49m\u001b[38;5;241;43m=\u001b[39;49m\u001b[43mskipfooter\u001b[49m\u001b[43m,\u001b[49m\n\u001b[1;32m    540\u001b[0m \u001b[43m        \u001b[49m\u001b[43mdtype_backend\u001b[49m\u001b[38;5;241;43m=\u001b[39;49m\u001b[43mdtype_backend\u001b[49m\u001b[43m,\u001b[49m\n\u001b[1;32m    541\u001b[0m \u001b[43m    \u001b[49m\u001b[43m)\u001b[49m\n\u001b[1;32m    542\u001b[0m \u001b[38;5;28;01mfinally\u001b[39;00m:\n\u001b[1;32m    543\u001b[0m     \u001b[38;5;66;03m# make sure to close opened file handles\u001b[39;00m\n\u001b[1;32m    544\u001b[0m     \u001b[38;5;28;01mif\u001b[39;00m should_close:\n",
      "File \u001b[0;32m/opt/conda/lib/python3.11/site-packages/pandas/io/excel/_base.py:1629\u001b[0m, in \u001b[0;36mExcelFile.parse\u001b[0;34m(self, sheet_name, header, names, index_col, usecols, converters, true_values, false_values, skiprows, nrows, na_values, parse_dates, date_parser, date_format, thousands, comment, skipfooter, dtype_backend, **kwds)\u001b[0m\n\u001b[1;32m   1589\u001b[0m \u001b[38;5;28;01mdef\u001b[39;00m \u001b[38;5;21mparse\u001b[39m(\n\u001b[1;32m   1590\u001b[0m     \u001b[38;5;28mself\u001b[39m,\n\u001b[1;32m   1591\u001b[0m     sheet_name: \u001b[38;5;28mstr\u001b[39m \u001b[38;5;241m|\u001b[39m \u001b[38;5;28mint\u001b[39m \u001b[38;5;241m|\u001b[39m \u001b[38;5;28mlist\u001b[39m[\u001b[38;5;28mint\u001b[39m] \u001b[38;5;241m|\u001b[39m \u001b[38;5;28mlist\u001b[39m[\u001b[38;5;28mstr\u001b[39m] \u001b[38;5;241m|\u001b[39m \u001b[38;5;28;01mNone\u001b[39;00m \u001b[38;5;241m=\u001b[39m \u001b[38;5;241m0\u001b[39m,\n\u001b[0;32m   (...)\u001b[0m\n\u001b[1;32m   1609\u001b[0m     \u001b[38;5;241m*\u001b[39m\u001b[38;5;241m*\u001b[39mkwds,\n\u001b[1;32m   1610\u001b[0m ) \u001b[38;5;241m-\u001b[39m\u001b[38;5;241m>\u001b[39m DataFrame \u001b[38;5;241m|\u001b[39m \u001b[38;5;28mdict\u001b[39m[\u001b[38;5;28mstr\u001b[39m, DataFrame] \u001b[38;5;241m|\u001b[39m \u001b[38;5;28mdict\u001b[39m[\u001b[38;5;28mint\u001b[39m, DataFrame]:\n\u001b[1;32m   1611\u001b[0m \u001b[38;5;250m    \u001b[39m\u001b[38;5;124;03m\"\"\"\u001b[39;00m\n\u001b[1;32m   1612\u001b[0m \u001b[38;5;124;03m    Parse specified sheet(s) into a DataFrame.\u001b[39;00m\n\u001b[1;32m   1613\u001b[0m \n\u001b[0;32m   (...)\u001b[0m\n\u001b[1;32m   1627\u001b[0m \u001b[38;5;124;03m    >>> file.parse()  # doctest: +SKIP\u001b[39;00m\n\u001b[1;32m   1628\u001b[0m \u001b[38;5;124;03m    \"\"\"\u001b[39;00m\n\u001b[0;32m-> 1629\u001b[0m     \u001b[38;5;28;01mreturn\u001b[39;00m \u001b[38;5;28;43mself\u001b[39;49m\u001b[38;5;241;43m.\u001b[39;49m\u001b[43m_reader\u001b[49m\u001b[38;5;241;43m.\u001b[39;49m\u001b[43mparse\u001b[49m\u001b[43m(\u001b[49m\n\u001b[1;32m   1630\u001b[0m \u001b[43m        \u001b[49m\u001b[43msheet_name\u001b[49m\u001b[38;5;241;43m=\u001b[39;49m\u001b[43msheet_name\u001b[49m\u001b[43m,\u001b[49m\n\u001b[1;32m   1631\u001b[0m \u001b[43m        \u001b[49m\u001b[43mheader\u001b[49m\u001b[38;5;241;43m=\u001b[39;49m\u001b[43mheader\u001b[49m\u001b[43m,\u001b[49m\n\u001b[1;32m   1632\u001b[0m \u001b[43m        \u001b[49m\u001b[43mnames\u001b[49m\u001b[38;5;241;43m=\u001b[39;49m\u001b[43mnames\u001b[49m\u001b[43m,\u001b[49m\n\u001b[1;32m   1633\u001b[0m \u001b[43m        \u001b[49m\u001b[43mindex_col\u001b[49m\u001b[38;5;241;43m=\u001b[39;49m\u001b[43mindex_col\u001b[49m\u001b[43m,\u001b[49m\n\u001b[1;32m   1634\u001b[0m \u001b[43m        \u001b[49m\u001b[43musecols\u001b[49m\u001b[38;5;241;43m=\u001b[39;49m\u001b[43musecols\u001b[49m\u001b[43m,\u001b[49m\n\u001b[1;32m   1635\u001b[0m \u001b[43m        \u001b[49m\u001b[43mconverters\u001b[49m\u001b[38;5;241;43m=\u001b[39;49m\u001b[43mconverters\u001b[49m\u001b[43m,\u001b[49m\n\u001b[1;32m   1636\u001b[0m \u001b[43m        \u001b[49m\u001b[43mtrue_values\u001b[49m\u001b[38;5;241;43m=\u001b[39;49m\u001b[43mtrue_values\u001b[49m\u001b[43m,\u001b[49m\n\u001b[1;32m   1637\u001b[0m \u001b[43m        \u001b[49m\u001b[43mfalse_values\u001b[49m\u001b[38;5;241;43m=\u001b[39;49m\u001b[43mfalse_values\u001b[49m\u001b[43m,\u001b[49m\n\u001b[1;32m   1638\u001b[0m \u001b[43m        \u001b[49m\u001b[43mskiprows\u001b[49m\u001b[38;5;241;43m=\u001b[39;49m\u001b[43mskiprows\u001b[49m\u001b[43m,\u001b[49m\n\u001b[1;32m   1639\u001b[0m \u001b[43m        \u001b[49m\u001b[43mnrows\u001b[49m\u001b[38;5;241;43m=\u001b[39;49m\u001b[43mnrows\u001b[49m\u001b[43m,\u001b[49m\n\u001b[1;32m   1640\u001b[0m \u001b[43m        \u001b[49m\u001b[43mna_values\u001b[49m\u001b[38;5;241;43m=\u001b[39;49m\u001b[43mna_values\u001b[49m\u001b[43m,\u001b[49m\n\u001b[1;32m   1641\u001b[0m \u001b[43m        \u001b[49m\u001b[43mparse_dates\u001b[49m\u001b[38;5;241;43m=\u001b[39;49m\u001b[43mparse_dates\u001b[49m\u001b[43m,\u001b[49m\n\u001b[1;32m   1642\u001b[0m \u001b[43m        \u001b[49m\u001b[43mdate_parser\u001b[49m\u001b[38;5;241;43m=\u001b[39;49m\u001b[43mdate_parser\u001b[49m\u001b[43m,\u001b[49m\n\u001b[1;32m   1643\u001b[0m \u001b[43m        \u001b[49m\u001b[43mdate_format\u001b[49m\u001b[38;5;241;43m=\u001b[39;49m\u001b[43mdate_format\u001b[49m\u001b[43m,\u001b[49m\n\u001b[1;32m   1644\u001b[0m \u001b[43m        \u001b[49m\u001b[43mthousands\u001b[49m\u001b[38;5;241;43m=\u001b[39;49m\u001b[43mthousands\u001b[49m\u001b[43m,\u001b[49m\n\u001b[1;32m   1645\u001b[0m \u001b[43m        \u001b[49m\u001b[43mcomment\u001b[49m\u001b[38;5;241;43m=\u001b[39;49m\u001b[43mcomment\u001b[49m\u001b[43m,\u001b[49m\n\u001b[1;32m   1646\u001b[0m \u001b[43m        \u001b[49m\u001b[43mskipfooter\u001b[49m\u001b[38;5;241;43m=\u001b[39;49m\u001b[43mskipfooter\u001b[49m\u001b[43m,\u001b[49m\n\u001b[1;32m   1647\u001b[0m \u001b[43m        \u001b[49m\u001b[43mdtype_backend\u001b[49m\u001b[38;5;241;43m=\u001b[39;49m\u001b[43mdtype_backend\u001b[49m\u001b[43m,\u001b[49m\n\u001b[1;32m   1648\u001b[0m \u001b[43m        \u001b[49m\u001b[38;5;241;43m*\u001b[39;49m\u001b[38;5;241;43m*\u001b[39;49m\u001b[43mkwds\u001b[49m\u001b[43m,\u001b[49m\n\u001b[1;32m   1649\u001b[0m \u001b[43m    \u001b[49m\u001b[43m)\u001b[49m\n",
      "File \u001b[0;32m/opt/conda/lib/python3.11/site-packages/pandas/io/excel/_base.py:788\u001b[0m, in \u001b[0;36mBaseExcelReader.parse\u001b[0;34m(self, sheet_name, header, names, index_col, usecols, dtype, true_values, false_values, skiprows, nrows, na_values, verbose, parse_dates, date_parser, date_format, thousands, decimal, comment, skipfooter, dtype_backend, **kwds)\u001b[0m\n\u001b[1;32m    785\u001b[0m     \u001b[38;5;28mprint\u001b[39m(\u001b[38;5;124mf\u001b[39m\u001b[38;5;124m\"\u001b[39m\u001b[38;5;124mReading sheet \u001b[39m\u001b[38;5;132;01m{\u001b[39;00masheetname\u001b[38;5;132;01m}\u001b[39;00m\u001b[38;5;124m\"\u001b[39m)\n\u001b[1;32m    787\u001b[0m \u001b[38;5;28;01mif\u001b[39;00m \u001b[38;5;28misinstance\u001b[39m(asheetname, \u001b[38;5;28mstr\u001b[39m):\n\u001b[0;32m--> 788\u001b[0m     sheet \u001b[38;5;241m=\u001b[39m \u001b[38;5;28;43mself\u001b[39;49m\u001b[38;5;241;43m.\u001b[39;49m\u001b[43mget_sheet_by_name\u001b[49m\u001b[43m(\u001b[49m\u001b[43masheetname\u001b[49m\u001b[43m)\u001b[49m\n\u001b[1;32m    789\u001b[0m \u001b[38;5;28;01melse\u001b[39;00m:  \u001b[38;5;66;03m# assume an integer if not a string\u001b[39;00m\n\u001b[1;32m    790\u001b[0m     sheet \u001b[38;5;241m=\u001b[39m \u001b[38;5;28mself\u001b[39m\u001b[38;5;241m.\u001b[39mget_sheet_by_index(asheetname)\n",
      "File \u001b[0;32m/opt/conda/lib/python3.11/site-packages/pandas/io/excel/_openpyxl.py:583\u001b[0m, in \u001b[0;36mOpenpyxlReader.get_sheet_by_name\u001b[0;34m(self, name)\u001b[0m\n\u001b[1;32m    582\u001b[0m \u001b[38;5;28;01mdef\u001b[39;00m \u001b[38;5;21mget_sheet_by_name\u001b[39m(\u001b[38;5;28mself\u001b[39m, name: \u001b[38;5;28mstr\u001b[39m):\n\u001b[0;32m--> 583\u001b[0m     \u001b[38;5;28;43mself\u001b[39;49m\u001b[38;5;241;43m.\u001b[39;49m\u001b[43mraise_if_bad_sheet_by_name\u001b[49m\u001b[43m(\u001b[49m\u001b[43mname\u001b[49m\u001b[43m)\u001b[49m\n\u001b[1;32m    584\u001b[0m     \u001b[38;5;28;01mreturn\u001b[39;00m \u001b[38;5;28mself\u001b[39m\u001b[38;5;241m.\u001b[39mbook[name]\n",
      "File \u001b[0;32m/opt/conda/lib/python3.11/site-packages/pandas/io/excel/_base.py:639\u001b[0m, in \u001b[0;36mBaseExcelReader.raise_if_bad_sheet_by_name\u001b[0;34m(self, name)\u001b[0m\n\u001b[1;32m    637\u001b[0m \u001b[38;5;28;01mdef\u001b[39;00m \u001b[38;5;21mraise_if_bad_sheet_by_name\u001b[39m(\u001b[38;5;28mself\u001b[39m, name: \u001b[38;5;28mstr\u001b[39m) \u001b[38;5;241m-\u001b[39m\u001b[38;5;241m>\u001b[39m \u001b[38;5;28;01mNone\u001b[39;00m:\n\u001b[1;32m    638\u001b[0m     \u001b[38;5;28;01mif\u001b[39;00m name \u001b[38;5;129;01mnot\u001b[39;00m \u001b[38;5;129;01min\u001b[39;00m \u001b[38;5;28mself\u001b[39m\u001b[38;5;241m.\u001b[39msheet_names:\n\u001b[0;32m--> 639\u001b[0m         \u001b[38;5;28;01mraise\u001b[39;00m \u001b[38;5;167;01mValueError\u001b[39;00m(\u001b[38;5;124mf\u001b[39m\u001b[38;5;124m\"\u001b[39m\u001b[38;5;124mWorksheet named \u001b[39m\u001b[38;5;124m'\u001b[39m\u001b[38;5;132;01m{\u001b[39;00mname\u001b[38;5;132;01m}\u001b[39;00m\u001b[38;5;124m'\u001b[39m\u001b[38;5;124m not found\u001b[39m\u001b[38;5;124m\"\u001b[39m)\n",
      "\u001b[0;31mValueError\u001b[0m: Worksheet named '2 baze de date_ATC_all' not found"
     ]
    }
   ],
   "source": [
    "output_df_c = pd.read_excel(ROOT_FOLDER+DATABASE_C_PAIRS, sheet_name = \"output_data_c\")"
   ]
  },
  {
   "cell_type": "code",
   "execution_count": null,
   "id": "f844e258-1d91-45d4-9a3a-a093b2fd19e5",
   "metadata": {},
   "outputs": [],
   "source": [
    "output_df_c"
   ]
  },
  {
   "cell_type": "code",
   "execution_count": 10,
   "id": "820eea48-3f1b-4273-8c38-91177894ea13",
   "metadata": {},
   "outputs": [
    {
     "ename": "NameError",
     "evalue": "name 'output_df_c' is not defined",
     "output_type": "error",
     "traceback": [
      "\u001b[0;31m---------------------------------------------------------------------------\u001b[0m",
      "\u001b[0;31mNameError\u001b[0m                                 Traceback (most recent call last)",
      "Cell \u001b[0;32mIn[10], line 4\u001b[0m\n\u001b[1;32m      2\u001b[0m category_names_a \u001b[38;5;241m=\u001b[39m []\n\u001b[1;32m      3\u001b[0m category_names_b \u001b[38;5;241m=\u001b[39m []\n\u001b[0;32m----> 4\u001b[0m \u001b[38;5;28;01mfor\u001b[39;00m index, row \u001b[38;5;129;01min\u001b[39;00m tqdm(\u001b[43moutput_df_c\u001b[49m\u001b[38;5;241m.\u001b[39miterrows(), total \u001b[38;5;241m=\u001b[39m output_df_c\u001b[38;5;241m.\u001b[39mshape[\u001b[38;5;241m0\u001b[39m]):\n\u001b[1;32m      5\u001b[0m     cat_a \u001b[38;5;241m=\u001b[39m row[\u001b[38;5;124m\"\u001b[39m\u001b[38;5;124mClassA\u001b[39m\u001b[38;5;124m\"\u001b[39m]\n\u001b[1;32m      6\u001b[0m     cat_b \u001b[38;5;241m=\u001b[39m row[\u001b[38;5;124m\"\u001b[39m\u001b[38;5;124mClassB\u001b[39m\u001b[38;5;124m\"\u001b[39m]\n",
      "\u001b[0;31mNameError\u001b[0m: name 'output_df_c' is not defined"
     ]
    }
   ],
   "source": [
    "# Extract only category names\n",
    "category_names_a = []\n",
    "category_names_b = []\n",
    "for index, row in tqdm(output_df_c.iterrows(), total = output_df_c.shape[0]):\n",
    "    cat_a = row[\"ClassA\"]\n",
    "    cat_b = row[\"ClassB\"]\n",
    "    if cat_a not in category_names_a:\n",
    "        category_names_a.append(cat_a)\n",
    "    if cat_b not in category_names_b:\n",
    "        category_names_b.append(cat_b);"
   ]
  },
  {
   "cell_type": "code",
   "execution_count": 11,
   "id": "c78bff6c-689c-4a04-a0d5-83f94df8ecf7",
   "metadata": {},
   "outputs": [
    {
     "data": {
      "text/plain": [
       "[]"
      ]
     },
     "execution_count": 11,
     "metadata": {},
     "output_type": "execute_result"
    }
   ],
   "source": [
    "category_names_a"
   ]
  },
  {
   "cell_type": "code",
   "execution_count": 12,
   "id": "36b816ca-ecfc-4fb5-85bb-ead664fb2723",
   "metadata": {},
   "outputs": [
    {
     "data": {
      "text/plain": [
       "[]"
      ]
     },
     "execution_count": 12,
     "metadata": {},
     "output_type": "execute_result"
    }
   ],
   "source": [
    "category_names_b"
   ]
  },
  {
   "cell_type": "code",
   "execution_count": 13,
   "id": "7d29da0d-e18f-4747-aa27-8c569305f970",
   "metadata": {},
   "outputs": [],
   "source": [
    "category_pairs = []\n",
    "for i in category_names_a:\n",
    "    for j in category_names_b:\n",
    "        if i == j:\n",
    "            continue\n",
    "        category_pairs.append((i,j))"
   ]
  },
  {
   "cell_type": "code",
   "execution_count": 14,
   "id": "4dc873a2-53e3-4556-a63a-f4237fa4631e",
   "metadata": {},
   "outputs": [
    {
     "data": {
      "text/plain": [
       "[]"
      ]
     },
     "execution_count": 14,
     "metadata": {},
     "output_type": "execute_result"
    }
   ],
   "source": [
    "category_pairs"
   ]
  },
  {
   "cell_type": "code",
   "execution_count": 15,
   "id": "3a84a7ad-cdb3-4bb9-8a58-1f1001e78fb4",
   "metadata": {},
   "outputs": [],
   "source": [
    "def search_dataframe(df, column, value):\n",
    "    return df.loc[df[column].str.lower() == value.lower()]\n"
   ]
  },
  {
   "cell_type": "code",
   "execution_count": 16,
   "id": "de5d7885-d825-4cbf-8f6c-78de3094169d",
   "metadata": {},
   "outputs": [],
   "source": [
    "def search_multiple_columns(df, col1, val1, col2, val2):\n",
    "    res_col_1 = search_dataframe(df, col1, val1)\n",
    "    return search_dataframe(res_col_1, col2,val2)"
   ]
  },
  {
   "cell_type": "code",
   "execution_count": 17,
   "id": "7093c7ee-ce7a-4bdb-b575-cb3cedd3f62a",
   "metadata": {},
   "outputs": [],
   "source": [
    "for item in category_pairs:\n",
    "    drug_list = search_multiple_columns(output_df_c, \"ClassA\", item[0], \"ClassB\", item[1])\n",
    "    drug_list_concatenated = []\n",
    "    for index, row in drug_list.iterrows():\n",
    "        drug_1 = row[\"DrugA\"]\n",
    "        drug_2 = row[\"DrugB\"]\n",
    "\n",
    "        drug_com = int(row[\"DrugsScore\"])\n",
    "\n",
    "        webmd = int(row[\"WebmdScore\"])\n",
    "\n",
    "        if drug_com == -1 or webmd == -1:\n",
    "            continue\n",
    "\n",
    "        if drug_com == 5:\n",
    "            drug_com = 4    \n",
    "        drug_list_concatenated.append((drug_1, drug_2,drug_com,webmd))\n",
    "    try:    \n",
    "        fleiss_score = calculate_fleiss_kappa(drug_list_concatenated)\n",
    "        print(f\"{item[0]}->{item[1]}: {fleiss_score}\")\n",
    "    except:\n",
    "        print(f\"{item[0]}->{item[1]}: NAN\")"
   ]
  },
  {
   "cell_type": "markdown",
   "id": "e478b037-93e4-4aa0-b7c6-fe821ab3a323",
   "metadata": {},
   "source": [
    "### C-> Others"
   ]
  },
  {
   "cell_type": "code",
   "execution_count": 18,
   "id": "d77c4668-2503-4329-8fdd-5ec6b828d487",
   "metadata": {},
   "outputs": [],
   "source": [
    "output_df_c_others = pd.read_excel(ROOT_FOLDER+DATABASE_OTHER_PAIRS, sheet_name = \"output_data_c_others_all\")"
   ]
  },
  {
   "cell_type": "code",
   "execution_count": 19,
   "id": "9cd9e951-e17c-44ec-9b6d-4d4810cd8e7f",
   "metadata": {},
   "outputs": [
    {
     "data": {
      "text/html": [
       "<div>\n",
       "<style scoped>\n",
       "    .dataframe tbody tr th:only-of-type {\n",
       "        vertical-align: middle;\n",
       "    }\n",
       "\n",
       "    .dataframe tbody tr th {\n",
       "        vertical-align: top;\n",
       "    }\n",
       "\n",
       "    .dataframe thead th {\n",
       "        text-align: right;\n",
       "    }\n",
       "</style>\n",
       "<table border=\"1\" class=\"dataframe\">\n",
       "  <thead>\n",
       "    <tr style=\"text-align: right;\">\n",
       "      <th></th>\n",
       "      <th>Unnamed: 0</th>\n",
       "      <th>ClassA</th>\n",
       "      <th>DrugA</th>\n",
       "      <th>ClassB</th>\n",
       "      <th>DrugB</th>\n",
       "      <th>DrugsScore</th>\n",
       "      <th>WebmdScore</th>\n",
       "    </tr>\n",
       "  </thead>\n",
       "  <tbody>\n",
       "    <tr>\n",
       "      <th>0</th>\n",
       "      <td>0</td>\n",
       "      <td>C10</td>\n",
       "      <td>atorvastatin</td>\n",
       "      <td>B01</td>\n",
       "      <td>warfarin</td>\n",
       "      <td>1</td>\n",
       "      <td>0</td>\n",
       "    </tr>\n",
       "    <tr>\n",
       "      <th>1</th>\n",
       "      <td>1</td>\n",
       "      <td>C10</td>\n",
       "      <td>atorvastatin</td>\n",
       "      <td>B01</td>\n",
       "      <td>dalteparin</td>\n",
       "      <td>0</td>\n",
       "      <td>0</td>\n",
       "    </tr>\n",
       "    <tr>\n",
       "      <th>2</th>\n",
       "      <td>2</td>\n",
       "      <td>C10</td>\n",
       "      <td>atorvastatin</td>\n",
       "      <td>B01</td>\n",
       "      <td>enoxaparin</td>\n",
       "      <td>0</td>\n",
       "      <td>0</td>\n",
       "    </tr>\n",
       "    <tr>\n",
       "      <th>3</th>\n",
       "      <td>3</td>\n",
       "      <td>C10</td>\n",
       "      <td>atorvastatin</td>\n",
       "      <td>B01</td>\n",
       "      <td>heparin</td>\n",
       "      <td>0</td>\n",
       "      <td>0</td>\n",
       "    </tr>\n",
       "    <tr>\n",
       "      <th>4</th>\n",
       "      <td>4</td>\n",
       "      <td>C10</td>\n",
       "      <td>atorvastatin</td>\n",
       "      <td>B01</td>\n",
       "      <td>tinzaparin</td>\n",
       "      <td>0</td>\n",
       "      <td>0</td>\n",
       "    </tr>\n",
       "    <tr>\n",
       "      <th>...</th>\n",
       "      <td>...</td>\n",
       "      <td>...</td>\n",
       "      <td>...</td>\n",
       "      <td>...</td>\n",
       "      <td>...</td>\n",
       "      <td>...</td>\n",
       "      <td>...</td>\n",
       "    </tr>\n",
       "    <tr>\n",
       "      <th>19647</th>\n",
       "      <td>6495</td>\n",
       "      <td>C01</td>\n",
       "      <td>regadenoson</td>\n",
       "      <td>G04</td>\n",
       "      <td>Silodosin</td>\n",
       "      <td>0</td>\n",
       "      <td>0</td>\n",
       "    </tr>\n",
       "    <tr>\n",
       "      <th>19648</th>\n",
       "      <td>6496</td>\n",
       "      <td>C01</td>\n",
       "      <td>regadenoson</td>\n",
       "      <td>G04</td>\n",
       "      <td>Tamsulosin</td>\n",
       "      <td>0</td>\n",
       "      <td>0</td>\n",
       "    </tr>\n",
       "    <tr>\n",
       "      <th>19649</th>\n",
       "      <td>6497</td>\n",
       "      <td>C01</td>\n",
       "      <td>regadenoson</td>\n",
       "      <td>G04</td>\n",
       "      <td>Terazosin</td>\n",
       "      <td>0</td>\n",
       "      <td>0</td>\n",
       "    </tr>\n",
       "    <tr>\n",
       "      <th>19650</th>\n",
       "      <td>6498</td>\n",
       "      <td>C01</td>\n",
       "      <td>regadenoson</td>\n",
       "      <td>G04</td>\n",
       "      <td>Dutasteride</td>\n",
       "      <td>0</td>\n",
       "      <td>0</td>\n",
       "    </tr>\n",
       "    <tr>\n",
       "      <th>19651</th>\n",
       "      <td>6499</td>\n",
       "      <td>C01</td>\n",
       "      <td>regadenoson</td>\n",
       "      <td>G04</td>\n",
       "      <td>Finasteride</td>\n",
       "      <td>0</td>\n",
       "      <td>0</td>\n",
       "    </tr>\n",
       "  </tbody>\n",
       "</table>\n",
       "<p>19652 rows × 7 columns</p>\n",
       "</div>"
      ],
      "text/plain": [
       "       Unnamed: 0 ClassA         DrugA ClassB        DrugB  DrugsScore  \\\n",
       "0               0    C10  atorvastatin    B01     warfarin           1   \n",
       "1               1    C10  atorvastatin    B01   dalteparin           0   \n",
       "2               2    C10  atorvastatin    B01   enoxaparin           0   \n",
       "3               3    C10  atorvastatin    B01      heparin           0   \n",
       "4               4    C10  atorvastatin    B01   tinzaparin           0   \n",
       "...           ...    ...           ...    ...          ...         ...   \n",
       "19647        6495    C01   regadenoson    G04    Silodosin           0   \n",
       "19648        6496    C01   regadenoson    G04   Tamsulosin           0   \n",
       "19649        6497    C01   regadenoson    G04    Terazosin           0   \n",
       "19650        6498    C01   regadenoson    G04  Dutasteride           0   \n",
       "19651        6499    C01   regadenoson    G04  Finasteride           0   \n",
       "\n",
       "       WebmdScore  \n",
       "0               0  \n",
       "1               0  \n",
       "2               0  \n",
       "3               0  \n",
       "4               0  \n",
       "...           ...  \n",
       "19647           0  \n",
       "19648           0  \n",
       "19649           0  \n",
       "19650           0  \n",
       "19651           0  \n",
       "\n",
       "[19652 rows x 7 columns]"
      ]
     },
     "execution_count": 19,
     "metadata": {},
     "output_type": "execute_result"
    }
   ],
   "source": [
    "output_df_c_others"
   ]
  },
  {
   "cell_type": "code",
   "execution_count": 20,
   "id": "23063ff8-2d93-4727-b1c5-a8592753dd27",
   "metadata": {},
   "outputs": [
    {
     "name": "stderr",
     "output_type": "stream",
     "text": [
      "100%|██████████████████████████████████████████████████████████████████████████| 19652/19652 [00:00<00:00, 28122.56it/s]\n"
     ]
    }
   ],
   "source": [
    "# Extract only category names\n",
    "category_names_a = []\n",
    "category_names_b = []\n",
    "for index, row in tqdm(output_df_c_others.iterrows(), total = output_df_c_others.shape[0]):\n",
    "    cat_a = row[\"ClassA\"]\n",
    "    cat_b = row[\"ClassB\"]\n",
    "    if cat_a not in category_names_a:\n",
    "        category_names_a.append(cat_a)\n",
    "    if cat_b not in category_names_b:\n",
    "        category_names_b.append(cat_b);"
   ]
  },
  {
   "cell_type": "code",
   "execution_count": 21,
   "id": "750c31a2-749a-4c1a-8458-4b6f07c36304",
   "metadata": {},
   "outputs": [
    {
     "data": {
      "text/plain": [
       "['C10', 'C09', 'C08', 'C07', 'C04', 'C03', 'C02', 'C01']"
      ]
     },
     "execution_count": 21,
     "metadata": {},
     "output_type": "execute_result"
    }
   ],
   "source": [
    "category_names_a"
   ]
  },
  {
   "cell_type": "code",
   "execution_count": 22,
   "id": "851cf204-6910-4231-8ea6-d40a535ab818",
   "metadata": {},
   "outputs": [
    {
     "data": {
      "text/plain": [
       "['B01',\n",
       " 'M01',\n",
       " 'M04',\n",
       " 'A02',\n",
       " 'A10',\n",
       " 'A12',\n",
       " 'N05BC',\n",
       " 'N05A',\n",
       " 'N06A',\n",
       " 'N06BD',\n",
       " 'G04']"
      ]
     },
     "execution_count": 22,
     "metadata": {},
     "output_type": "execute_result"
    }
   ],
   "source": [
    "category_names_b"
   ]
  },
  {
   "cell_type": "code",
   "execution_count": 23,
   "id": "9cddac30-7b85-4619-9b74-9938ce6cf3a8",
   "metadata": {},
   "outputs": [],
   "source": [
    "category_pairs = []\n",
    "for i in category_names_a:\n",
    "    for j in category_names_b:\n",
    "        if i == j:\n",
    "            continue\n",
    "        category_pairs.append((i,j))"
   ]
  },
  {
   "cell_type": "code",
   "execution_count": 24,
   "id": "295d56f0-587b-43a8-ac41-1a435cbf5af7",
   "metadata": {},
   "outputs": [
    {
     "data": {
      "text/plain": [
       "[('C10', 'B01'),\n",
       " ('C10', 'M01'),\n",
       " ('C10', 'M04'),\n",
       " ('C10', 'A02'),\n",
       " ('C10', 'A10'),\n",
       " ('C10', 'A12'),\n",
       " ('C10', 'N05BC'),\n",
       " ('C10', 'N05A'),\n",
       " ('C10', 'N06A'),\n",
       " ('C10', 'N06BD'),\n",
       " ('C10', 'G04'),\n",
       " ('C09', 'B01'),\n",
       " ('C09', 'M01'),\n",
       " ('C09', 'M04'),\n",
       " ('C09', 'A02'),\n",
       " ('C09', 'A10'),\n",
       " ('C09', 'A12'),\n",
       " ('C09', 'N05BC'),\n",
       " ('C09', 'N05A'),\n",
       " ('C09', 'N06A'),\n",
       " ('C09', 'N06BD'),\n",
       " ('C09', 'G04'),\n",
       " ('C08', 'B01'),\n",
       " ('C08', 'M01'),\n",
       " ('C08', 'M04'),\n",
       " ('C08', 'A02'),\n",
       " ('C08', 'A10'),\n",
       " ('C08', 'A12'),\n",
       " ('C08', 'N05BC'),\n",
       " ('C08', 'N05A'),\n",
       " ('C08', 'N06A'),\n",
       " ('C08', 'N06BD'),\n",
       " ('C08', 'G04'),\n",
       " ('C07', 'B01'),\n",
       " ('C07', 'M01'),\n",
       " ('C07', 'M04'),\n",
       " ('C07', 'A02'),\n",
       " ('C07', 'A10'),\n",
       " ('C07', 'A12'),\n",
       " ('C07', 'N05BC'),\n",
       " ('C07', 'N05A'),\n",
       " ('C07', 'N06A'),\n",
       " ('C07', 'N06BD'),\n",
       " ('C07', 'G04'),\n",
       " ('C04', 'B01'),\n",
       " ('C04', 'M01'),\n",
       " ('C04', 'M04'),\n",
       " ('C04', 'A02'),\n",
       " ('C04', 'A10'),\n",
       " ('C04', 'A12'),\n",
       " ('C04', 'N05BC'),\n",
       " ('C04', 'N05A'),\n",
       " ('C04', 'N06A'),\n",
       " ('C04', 'N06BD'),\n",
       " ('C04', 'G04'),\n",
       " ('C03', 'B01'),\n",
       " ('C03', 'M01'),\n",
       " ('C03', 'M04'),\n",
       " ('C03', 'A02'),\n",
       " ('C03', 'A10'),\n",
       " ('C03', 'A12'),\n",
       " ('C03', 'N05BC'),\n",
       " ('C03', 'N05A'),\n",
       " ('C03', 'N06A'),\n",
       " ('C03', 'N06BD'),\n",
       " ('C03', 'G04'),\n",
       " ('C02', 'B01'),\n",
       " ('C02', 'M01'),\n",
       " ('C02', 'M04'),\n",
       " ('C02', 'A02'),\n",
       " ('C02', 'A10'),\n",
       " ('C02', 'A12'),\n",
       " ('C02', 'N05BC'),\n",
       " ('C02', 'N05A'),\n",
       " ('C02', 'N06A'),\n",
       " ('C02', 'N06BD'),\n",
       " ('C02', 'G04'),\n",
       " ('C01', 'B01'),\n",
       " ('C01', 'M01'),\n",
       " ('C01', 'M04'),\n",
       " ('C01', 'A02'),\n",
       " ('C01', 'A10'),\n",
       " ('C01', 'A12'),\n",
       " ('C01', 'N05BC'),\n",
       " ('C01', 'N05A'),\n",
       " ('C01', 'N06A'),\n",
       " ('C01', 'N06BD'),\n",
       " ('C01', 'G04')]"
      ]
     },
     "execution_count": 24,
     "metadata": {},
     "output_type": "execute_result"
    }
   ],
   "source": [
    "category_pairs"
   ]
  },
  {
   "cell_type": "code",
   "execution_count": 25,
   "id": "05281d41-0af3-4766-9c68-903d9d053ee0",
   "metadata": {},
   "outputs": [
    {
     "name": "stdout",
     "output_type": "stream",
     "text": [
      "C10->B01: 0.4742113169754617\n",
      "C10->M01: 0.21214004936465808\n",
      "C10->M04: 0.6144922363019812\n",
      "C10->A02: 0.06831648658069107\n",
      "C10->A10: 0.5117348743955653\n",
      "C10->A12: 1.7976931348623157e+308\n",
      "C10->N05BC: 0.25333333333333313\n",
      "C10->N05A: -0.010132501948551883\n",
      "C10->N06A: 0.08603667136812532\n",
      "C10->N06BD: 0.6622889305816152\n",
      "C10->G04: -0.020242914979752082\n",
      "C09->B01: 0.440156562658047\n",
      "C09->M01: 0.23675658744763312\n"
     ]
    },
    {
     "name": "stderr",
     "output_type": "stream",
     "text": [
      "/opt/conda/lib/python3.11/site-packages/statsmodels/stats/inter_rater.py:267: RuntimeWarning: invalid value encountered in scalar divide\n",
      "  kappa = (p_mean - p_mean_exp) / (1- p_mean_exp)\n"
     ]
    },
    {
     "name": "stdout",
     "output_type": "stream",
     "text": [
      "C09->M04: 0.801047120418848\n",
      "C09->A02: -0.007836045810726314\n",
      "C09->A10: 0.7958377574856657\n",
      "C09->A12: -0.5704187058183795\n",
      "C09->N05BC: -0.27611818828226065\n",
      "C09->N05A: -0.38088829071332414\n",
      "C09->N06A: -0.21005586592178724\n",
      "C09->N06BD: 1.7976931348623157e+308\n",
      "C09->G04: 0.9108997119313993\n",
      "C08->B01: 0.10750234867803046\n",
      "C08->M01: -0.31143921622740445\n",
      "C08->M04: 0.5319148936170212\n",
      "C08->A02: 0.4618235730170497\n",
      "C08->A10: 0.4549577640455813\n",
      "C08->A12: 1.7976931348623157e+308\n",
      "C08->N05BC: -0.29351946010908747\n",
      "C08->N05A: -0.39025134832604014\n",
      "C08->N06A: -0.006901561932437382\n",
      "C08->N06BD: -0.23066798288910828\n",
      "C08->G04: 0.11812827225130877\n",
      "C07->B01: 0.07087144616485792\n",
      "C07->M01: 1.0\n",
      "C07->M04: 1.0\n",
      "C07->A02: 0.12194522903107051\n",
      "C07->A10: 0.16147765768672373\n",
      "C07->A12: -0.3000000000000003\n",
      "C07->N05BC: -0.16374187772993168\n",
      "C07->N05A: -0.44866997754949306\n",
      "C07->N06A: -0.18948932509580071\n",
      "C07->N06BD: -0.18264520643806847\n",
      "C07->G04: 0.9781171095346881\n",
      "C04->B01: -0.12784118154790436\n",
      "C04->M01: -0.09848794442174093\n",
      "C04->M04: 1.7976931348623157e+308\n",
      "C04->A02: 1.0\n",
      "C04->A10: 0.0867799669123177\n",
      "C04->A12: 1.7976931348623157e+308\n",
      "C04->N05BC: -0.15107913669064738\n",
      "C04->N05A: -0.2428078250863059\n",
      "C04->N06A: -0.125\n",
      "C04->N06BD: 1.7976931348623157e+308\n",
      "C04->G04: 0.20310478654592476\n",
      "C03->B01: 0.2647112459788901\n",
      "C03->M01: 0.7722754382794145\n",
      "C03->M04: -0.032833917755817774\n",
      "C03->A02: -0.13632171186127967\n",
      "C03->A10: 0.1176533622900579\n",
      "C03->A12: -0.03636363636363632\n",
      "C03->N05BC: -0.17817452580564339\n",
      "C03->N05A: -0.44747863963813034\n",
      "C03->N06A: -0.3219276047970073\n",
      "C03->N06BD: 0.46236559139784983\n",
      "C03->G04: -0.0869928201703124\n",
      "C02->B01: 0.330251745818733\n",
      "C02->M01: 0.7089947089947091\n",
      "C02->M04: -0.015384615384612409\n",
      "C02->A02: -0.004149377593372974\n",
      "C02->A10: 0.41978180388559494\n",
      "C02->A12: 1.7976931348623157e+308\n",
      "C02->N05BC: -0.31275931192019035\n",
      "C02->N05A: -0.36021505376344076\n",
      "C02->N06A: -0.07965358708435798\n",
      "C02->N06BD: 1.7976931348623157e+308\n",
      "C02->G04: 0.3117318435754189\n",
      "C01->B01: 0.2871705546585646\n",
      "C01->M01: 0.48529133542087377\n",
      "C01->M04: 0.6536922517279018\n",
      "C01->A02: 0.3273395137309777\n",
      "C01->A10: 0.17955293911928438\n",
      "C01->A12: 0.32464307883302307\n",
      "C01->N05BC: 0.12860859833738794\n",
      "C01->N05A: 0.26720759179241577\n",
      "C01->N06A: 0.34514326477232204\n",
      "C01->N06BD: 0.2279745685740235\n",
      "C01->G04: 0.31510791366906477\n"
     ]
    }
   ],
   "source": [
    "for item in category_pairs:\n",
    "    drug_list = search_multiple_columns(output_df_c_others, \"ClassA\", item[0], \"ClassB\", item[1])\n",
    "    drug_list_concatenated = []\n",
    "    for index, row in drug_list.iterrows():\n",
    "        drug_1 = row[\"DrugA\"]\n",
    "        drug_2 = row[\"DrugB\"]\n",
    "\n",
    "        drug_com = int(row[\"DrugsScore\"])\n",
    "\n",
    "        webmd = int(row[\"WebmdScore\"])\n",
    "\n",
    "        if drug_com == -1 or webmd == -1:\n",
    "            continue\n",
    "\n",
    "        if drug_com == 5:\n",
    "            drug_com = 4    \n",
    "        drug_list_concatenated.append((drug_1, drug_2,drug_com,webmd))\n",
    "    try:    \n",
    "        fleiss_score = calculate_fleiss_kappa(drug_list_concatenated)\n",
    "        print(f\"{item[0]}->{item[1]}: {fleiss_score}\")\n",
    "    except:\n",
    "        print(f\"{item[0]}->{item[1]}: NAN\")"
   ]
  },
  {
   "cell_type": "code",
   "execution_count": null,
   "id": "a64d8b95-cb6a-4cd9-a1a9-93d9e320a918",
   "metadata": {},
   "outputs": [],
   "source": []
  }
 ],
 "metadata": {
  "kernelspec": {
   "display_name": "Python 3 (ipykernel)",
   "language": "python",
   "name": "python3"
  },
  "language_info": {
   "codemirror_mode": {
    "name": "ipython",
    "version": 3
   },
   "file_extension": ".py",
   "mimetype": "text/x-python",
   "name": "python",
   "nbconvert_exporter": "python",
   "pygments_lexer": "ipython3",
   "version": "3.11.5"
  }
 },
 "nbformat": 4,
 "nbformat_minor": 5
}
