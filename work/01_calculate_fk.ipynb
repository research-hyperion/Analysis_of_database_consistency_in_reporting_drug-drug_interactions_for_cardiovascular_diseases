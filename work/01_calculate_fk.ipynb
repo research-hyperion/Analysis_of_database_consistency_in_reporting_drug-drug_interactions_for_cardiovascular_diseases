{
 "cells": [
  {
   "cell_type": "code",
   "execution_count": 1,
   "id": "c2461c59-9408-498d-8374-ccee1416a3ae",
   "metadata": {},
   "outputs": [
    {
     "name": "stdout",
     "output_type": "stream",
     "text": [
      "Requirement already satisfied: tqdm in /opt/conda/lib/python3.11/site-packages (4.66.1)\n",
      "Collecting pandas\n",
      "  Obtaining dependency information for pandas from https://files.pythonhosted.org/packages/de/ce/b5d9c7ce1aaf9023b823c81932a50cd5e8f407198a696b0d1c6025a40b03/pandas-2.1.1-cp311-cp311-manylinux_2_17_x86_64.manylinux2014_x86_64.whl.metadata\n",
      "  Downloading pandas-2.1.1-cp311-cp311-manylinux_2_17_x86_64.manylinux2014_x86_64.whl.metadata (18 kB)\n",
      "Collecting statsmodels\n",
      "  Downloading statsmodels-0.14.0-cp311-cp311-manylinux_2_17_x86_64.manylinux2014_x86_64.whl (10.1 MB)\n",
      "\u001b[2K     \u001b[90m━━━━━━━━━━━━━━━━━━━━━━━━━━━━━━━━━━━━━━━━\u001b[0m \u001b[32m10.1/10.1 MB\u001b[0m \u001b[31m11.2 MB/s\u001b[0m eta \u001b[36m0:00:00\u001b[0m00:01\u001b[0m0:01\u001b[0m\n",
      "\u001b[?25hCollecting openpyxl\n",
      "  Downloading openpyxl-3.1.2-py2.py3-none-any.whl (249 kB)\n",
      "\u001b[2K     \u001b[90m━━━━━━━━━━━━━━━━━━━━━━━━━━━━━━━━━━━━━━━\u001b[0m \u001b[32m250.0/250.0 kB\u001b[0m \u001b[31m8.4 MB/s\u001b[0m eta \u001b[36m0:00:00\u001b[0m\n",
      "\u001b[?25hRequirement already satisfied: numpy>=1.23.2 in /opt/conda/lib/python3.11/site-packages (from pandas) (1.26.0)\n",
      "Requirement already satisfied: python-dateutil>=2.8.2 in /opt/conda/lib/python3.11/site-packages (from pandas) (2.8.2)\n",
      "Requirement already satisfied: pytz>=2020.1 in /opt/conda/lib/python3.11/site-packages (from pandas) (2023.3.post1)\n",
      "Collecting tzdata>=2022.1 (from pandas)\n",
      "  Downloading tzdata-2023.3-py2.py3-none-any.whl (341 kB)\n",
      "\u001b[2K     \u001b[90m━━━━━━━━━━━━━━━━━━━━━━━━━━━━━━━━━━━━━━━\u001b[0m \u001b[32m341.8/341.8 kB\u001b[0m \u001b[31m9.3 MB/s\u001b[0m eta \u001b[36m0:00:00\u001b[0m00:01\u001b[0m\n",
      "\u001b[?25hRequirement already satisfied: scipy!=1.9.2,>=1.4 in /opt/conda/lib/python3.11/site-packages (from statsmodels) (1.11.2)\n",
      "Collecting patsy>=0.5.2 (from statsmodels)\n",
      "  Downloading patsy-0.5.3-py2.py3-none-any.whl (233 kB)\n",
      "\u001b[2K     \u001b[90m━━━━━━━━━━━━━━━━━━━━━━━━━━━━━━━━━━━━━━━\u001b[0m \u001b[32m233.8/233.8 kB\u001b[0m \u001b[31m7.4 MB/s\u001b[0m eta \u001b[36m0:00:00\u001b[0m\n",
      "\u001b[?25hRequirement already satisfied: packaging>=21.3 in /opt/conda/lib/python3.11/site-packages (from statsmodels) (23.1)\n",
      "Collecting et-xmlfile (from openpyxl)\n",
      "  Downloading et_xmlfile-1.1.0-py3-none-any.whl (4.7 kB)\n",
      "Requirement already satisfied: six in /opt/conda/lib/python3.11/site-packages (from patsy>=0.5.2->statsmodels) (1.16.0)\n",
      "Downloading pandas-2.1.1-cp311-cp311-manylinux_2_17_x86_64.manylinux2014_x86_64.whl (12.2 MB)\n",
      "\u001b[2K   \u001b[90m━━━━━━━━━━━━━━━━━━━━━━━━━━━━━━━━━━━━━━━━\u001b[0m \u001b[32m12.2/12.2 MB\u001b[0m \u001b[31m12.3 MB/s\u001b[0m eta \u001b[36m0:00:00\u001b[0m00:01\u001b[0m00:01\u001b[0m\n",
      "\u001b[?25hInstalling collected packages: tzdata, patsy, et-xmlfile, pandas, openpyxl, statsmodels\n",
      "Successfully installed et-xmlfile-1.1.0 openpyxl-3.1.2 pandas-2.1.1 patsy-0.5.3 statsmodels-0.14.0 tzdata-2023.3\n"
     ]
    }
   ],
   "source": [
    "!pip install tqdm pandas statsmodels openpyxl"
   ]
  },
  {
   "cell_type": "code",
   "execution_count": 4,
   "id": "dd78b7c7-d19f-43ad-ae1e-6106bec27d33",
   "metadata": {},
   "outputs": [],
   "source": [
    "import pandas as pd\n",
    "import numpy as np\n",
    "from tqdm import tqdm"
   ]
  },
  {
   "cell_type": "code",
   "execution_count": 5,
   "id": "c575e95c-a438-4285-8a47-01b465a8c734",
   "metadata": {},
   "outputs": [],
   "source": [
    "ROOT_FOLDER = \"data/\""
   ]
  },
  {
   "cell_type": "code",
   "execution_count": 6,
   "id": "83821955-4927-475d-ae65-43b9f180c746",
   "metadata": {},
   "outputs": [],
   "source": [
    "DATABASE_C_PAIRS = \"output_data_c_new.xlsx\"\n",
    "DATABASE_OTHER_PAIRS = \"output_data_c_others_all.xlsx\"\n",
    "SHEET_NAME = \"2 baze de date_ATC_all\""
   ]
  },
  {
   "cell_type": "code",
   "execution_count": 7,
   "id": "2f459837-8875-4180-8801-1093603edc79",
   "metadata": {},
   "outputs": [],
   "source": [
    "from statsmodels.stats import inter_rater as irr"
   ]
  },
  {
   "cell_type": "markdown",
   "id": "2aba7066-d1c6-4ff0-afe6-73cdd5c2e0db",
   "metadata": {},
   "source": [
    "## Set the number of categories**\n",
    "\n",
    "1. 4=X=major--contraindicated combination of drugs\n",
    "2. 3=D=major--avoid, use alternative drug\n",
    "3. 2=C=major/moderate--monitor patient's therapy\n",
    "4. 1=B=minor--no action needed\n",
    "5. 0=no interaction found\n",
    "6. -1 = no record\n",
    "\n",
    "## Mapping in parsers:\n",
    "    \n",
    "**Drugs.com**\n",
    "1. Not Found = 0\n",
    "2. Minor = 1\n",
    "3. Moderate = 2\n",
    "4. Major = 3\n",
    "5. Avoid = 4\n",
    "6. Contraindicated = 5\n",
    "\n",
    "**Webmd**\n",
    "1. Not Found = 0\n",
    "2. Minor = 1\n",
    "3. Monitor CLosely = 2\n",
    "4. Serios = 3\n",
    "5. Don't use = 4\n",
    "\n",
    "\n",
    "*NOTE*: For drugs.com, category 5 is merged into 4!\n",
    "\n"
   ]
  },
  {
   "cell_type": "code",
   "execution_count": 8,
   "id": "760c00aa-0d33-4ad1-9ad3-a44c33ec9055",
   "metadata": {},
   "outputs": [],
   "source": [
    "NUMBER_OF_CATEGORIES = 5"
   ]
  },
  {
   "cell_type": "code",
   "execution_count": 9,
   "id": "82ba74fc-5624-4415-8d47-ed3c56007b4d",
   "metadata": {},
   "outputs": [],
   "source": [
    "NUMBER_OF_RATERS = 2"
   ]
  },
  {
   "cell_type": "code",
   "execution_count": 10,
   "id": "5fbbe159-f71e-43d8-a449-20e3bbe5b103",
   "metadata": {},
   "outputs": [],
   "source": [
    "def calculate_fleiss_kappa(drug_list):\n",
    "    drug_list_len = len(drug_list)\n",
    "    data_matrix = np.zeros(shape=(drug_list_len,NUMBER_OF_RATERS), dtype=int)\n",
    "    for i in range(drug_list_len):\n",
    "        entry = drug_list[i]\n",
    "        for j in range(0, NUMBER_OF_RATERS):\n",
    "            data_matrix[i,j] = entry[j+2]\n",
    "    agg,cat = irr.aggregate_raters(data_matrix) # returns a tuple (data, categories)\n",
    "    fleiss_score = irr.fleiss_kappa(agg, method = 'fleiss')\n",
    "    #print(agg)\n",
    "    #print(fleiss_score)\n",
    "    if np.isnan(fleiss_score):\n",
    "        return np.finfo(np.float64).max\n",
    "    return fleiss_score"
   ]
  },
  {
   "cell_type": "markdown",
   "id": "790990eb-65b3-466c-b769-c21fb84c4be2",
   "metadata": {},
   "source": [
    "### Only C category interactions"
   ]
  },
  {
   "cell_type": "code",
   "execution_count": 32,
   "id": "07358185-c808-4e70-b3e4-f6986f1bd29e",
   "metadata": {},
   "outputs": [],
   "source": [
    "output_df_c = pd.read_excel(ROOT_FOLDER+DATABASE_C_PAIRS, sheet_name = SHEET_NAME)"
   ]
  },
  {
   "cell_type": "code",
   "execution_count": 33,
   "id": "f844e258-1d91-45d4-9a3a-a093b2fd19e5",
   "metadata": {},
   "outputs": [
    {
     "data": {
      "text/html": [
       "<div>\n",
       "<style scoped>\n",
       "    .dataframe tbody tr th:only-of-type {\n",
       "        vertical-align: middle;\n",
       "    }\n",
       "\n",
       "    .dataframe tbody tr th {\n",
       "        vertical-align: top;\n",
       "    }\n",
       "\n",
       "    .dataframe thead th {\n",
       "        text-align: right;\n",
       "    }\n",
       "</style>\n",
       "<table border=\"1\" class=\"dataframe\">\n",
       "  <thead>\n",
       "    <tr style=\"text-align: right;\">\n",
       "      <th></th>\n",
       "      <th>Unnamed: 0</th>\n",
       "      <th>ClassA</th>\n",
       "      <th>DrugA</th>\n",
       "      <th>ClassB</th>\n",
       "      <th>DrugB</th>\n",
       "      <th>DrugsScore</th>\n",
       "      <th>WebmdScore</th>\n",
       "    </tr>\n",
       "  </thead>\n",
       "  <tbody>\n",
       "    <tr>\n",
       "      <th>0</th>\n",
       "      <td>0</td>\n",
       "      <td>C10</td>\n",
       "      <td>atorvastatin</td>\n",
       "      <td>C09</td>\n",
       "      <td>benazepril</td>\n",
       "      <td>0</td>\n",
       "      <td>0</td>\n",
       "    </tr>\n",
       "    <tr>\n",
       "      <th>1</th>\n",
       "      <td>1</td>\n",
       "      <td>C10</td>\n",
       "      <td>atorvastatin</td>\n",
       "      <td>C09</td>\n",
       "      <td>captopril</td>\n",
       "      <td>0</td>\n",
       "      <td>0</td>\n",
       "    </tr>\n",
       "    <tr>\n",
       "      <th>2</th>\n",
       "      <td>2</td>\n",
       "      <td>C10</td>\n",
       "      <td>atorvastatin</td>\n",
       "      <td>C09</td>\n",
       "      <td>enalapril</td>\n",
       "      <td>0</td>\n",
       "      <td>0</td>\n",
       "    </tr>\n",
       "    <tr>\n",
       "      <th>3</th>\n",
       "      <td>3</td>\n",
       "      <td>C10</td>\n",
       "      <td>atorvastatin</td>\n",
       "      <td>C09</td>\n",
       "      <td>fosinopril</td>\n",
       "      <td>0</td>\n",
       "      <td>0</td>\n",
       "    </tr>\n",
       "    <tr>\n",
       "      <th>4</th>\n",
       "      <td>4</td>\n",
       "      <td>C10</td>\n",
       "      <td>atorvastatin</td>\n",
       "      <td>C09</td>\n",
       "      <td>lisinopril</td>\n",
       "      <td>0</td>\n",
       "      <td>0</td>\n",
       "    </tr>\n",
       "    <tr>\n",
       "      <th>...</th>\n",
       "      <td>...</td>\n",
       "      <td>...</td>\n",
       "      <td>...</td>\n",
       "      <td>...</td>\n",
       "      <td>...</td>\n",
       "      <td>...</td>\n",
       "      <td>...</td>\n",
       "    </tr>\n",
       "    <tr>\n",
       "      <th>7654</th>\n",
       "      <td>8108</td>\n",
       "      <td>C02</td>\n",
       "      <td>doxazosin</td>\n",
       "      <td>C01</td>\n",
       "      <td>indomethacin</td>\n",
       "      <td>0</td>\n",
       "      <td>2</td>\n",
       "    </tr>\n",
       "    <tr>\n",
       "      <th>7655</th>\n",
       "      <td>8109</td>\n",
       "      <td>C02</td>\n",
       "      <td>doxazosin</td>\n",
       "      <td>C01</td>\n",
       "      <td>ivabradine</td>\n",
       "      <td>0</td>\n",
       "      <td>0</td>\n",
       "    </tr>\n",
       "    <tr>\n",
       "      <th>7656</th>\n",
       "      <td>8110</td>\n",
       "      <td>C02</td>\n",
       "      <td>doxazosin</td>\n",
       "      <td>C01</td>\n",
       "      <td>mavacamten</td>\n",
       "      <td>2</td>\n",
       "      <td>0</td>\n",
       "    </tr>\n",
       "    <tr>\n",
       "      <th>7657</th>\n",
       "      <td>8111</td>\n",
       "      <td>C02</td>\n",
       "      <td>doxazosin</td>\n",
       "      <td>C01</td>\n",
       "      <td>ranolazine</td>\n",
       "      <td>0</td>\n",
       "      <td>0</td>\n",
       "    </tr>\n",
       "    <tr>\n",
       "      <th>7658</th>\n",
       "      <td>8112</td>\n",
       "      <td>C02</td>\n",
       "      <td>doxazosin</td>\n",
       "      <td>C01</td>\n",
       "      <td>regadenoson</td>\n",
       "      <td>0</td>\n",
       "      <td>0</td>\n",
       "    </tr>\n",
       "  </tbody>\n",
       "</table>\n",
       "<p>7659 rows × 7 columns</p>\n",
       "</div>"
      ],
      "text/plain": [
       "      Unnamed: 0 ClassA         DrugA ClassB         DrugB  DrugsScore  \\\n",
       "0              0    C10  atorvastatin    C09    benazepril           0   \n",
       "1              1    C10  atorvastatin    C09     captopril           0   \n",
       "2              2    C10  atorvastatin    C09     enalapril           0   \n",
       "3              3    C10  atorvastatin    C09    fosinopril           0   \n",
       "4              4    C10  atorvastatin    C09    lisinopril           0   \n",
       "...          ...    ...           ...    ...           ...         ...   \n",
       "7654        8108    C02     doxazosin    C01  indomethacin           0   \n",
       "7655        8109    C02     doxazosin    C01    ivabradine           0   \n",
       "7656        8110    C02     doxazosin    C01    mavacamten           2   \n",
       "7657        8111    C02     doxazosin    C01    ranolazine           0   \n",
       "7658        8112    C02     doxazosin    C01   regadenoson           0   \n",
       "\n",
       "      WebmdScore  \n",
       "0              0  \n",
       "1              0  \n",
       "2              0  \n",
       "3              0  \n",
       "4              0  \n",
       "...          ...  \n",
       "7654           2  \n",
       "7655           0  \n",
       "7656           0  \n",
       "7657           0  \n",
       "7658           0  \n",
       "\n",
       "[7659 rows x 7 columns]"
      ]
     },
     "execution_count": 33,
     "metadata": {},
     "output_type": "execute_result"
    }
   ],
   "source": [
    "output_df_c"
   ]
  },
  {
   "cell_type": "code",
   "execution_count": 34,
   "id": "7d8c3ddb-a19b-498f-85e7-c4bdc6eb878c",
   "metadata": {},
   "outputs": [
    {
     "name": "stderr",
     "output_type": "stream",
     "text": [
      "100%|████████████████████████████████████████████████████████████████████████████| 7659/7659 [00:00<00:00, 22907.66it/s]"
     ]
    },
    {
     "name": "stdout",
     "output_type": "stream",
     "text": [
      "Length: 7659\n"
     ]
    },
    {
     "name": "stderr",
     "output_type": "stream",
     "text": [
      "\n"
     ]
    }
   ],
   "source": [
    "drug_list_concatenated = []\n",
    "for index, row in tqdm(output_df_c.iterrows(), total=output_df_c.shape[0]):\n",
    "    drug_1 = row[\"DrugA\"]\n",
    "    drug_2 = row[\"DrugB\"]\n",
    "\n",
    "    drug_com = int(row[\"DrugsScore\"])\n",
    "\n",
    "    webmd = int(row[\"WebmdScore\"])\n",
    "\n",
    "    if drug_com == -1 or webmd == -1:\n",
    "        continue\n",
    "\n",
    "    if drug_com == 5:\n",
    "        drug_com = 4\n",
    "        \n",
    "    \n",
    "\n",
    "    drug_list_concatenated.append((drug_1, drug_2,drug_com,webmd))\n",
    "print(f\"Length: {len(drug_list_concatenated)}\")"
   ]
  },
  {
   "cell_type": "code",
   "execution_count": 35,
   "id": "072738dd-a7b9-4b7e-aa09-76eec8835f41",
   "metadata": {},
   "outputs": [
    {
     "name": "stdout",
     "output_type": "stream",
     "text": [
      "0.35715110391259725\n"
     ]
    }
   ],
   "source": [
    "fleiss_score = calculate_fleiss_kappa(drug_list_concatenated)\n",
    "print(f\"{fleiss_score}\")"
   ]
  },
  {
   "cell_type": "markdown",
   "id": "08d0a020-fe77-41d4-9f1f-1e85e6e93e0f",
   "metadata": {},
   "source": [
    "### C-Others categories interactions"
   ]
  },
  {
   "cell_type": "code",
   "execution_count": 11,
   "id": "839f8fb6-3272-4321-a09a-6f0e02df5ec4",
   "metadata": {},
   "outputs": [],
   "source": [
    "output_df_others = pd.read_excel(ROOT_FOLDER+DATABASE_OTHER_PAIRS, sheet_name = SHEET_NAME)"
   ]
  },
  {
   "cell_type": "code",
   "execution_count": 12,
   "id": "dde47120-4942-448d-bf90-2b8e0978d9f6",
   "metadata": {},
   "outputs": [
    {
     "data": {
      "text/html": [
       "<div>\n",
       "<style scoped>\n",
       "    .dataframe tbody tr th:only-of-type {\n",
       "        vertical-align: middle;\n",
       "    }\n",
       "\n",
       "    .dataframe tbody tr th {\n",
       "        vertical-align: top;\n",
       "    }\n",
       "\n",
       "    .dataframe thead th {\n",
       "        text-align: right;\n",
       "    }\n",
       "</style>\n",
       "<table border=\"1\" class=\"dataframe\">\n",
       "  <thead>\n",
       "    <tr style=\"text-align: right;\">\n",
       "      <th></th>\n",
       "      <th>Unnamed: 0</th>\n",
       "      <th>ClassA</th>\n",
       "      <th>DrugA</th>\n",
       "      <th>ClassB</th>\n",
       "      <th>DrugB</th>\n",
       "      <th>DrugsScore</th>\n",
       "      <th>WebmdScore</th>\n",
       "    </tr>\n",
       "  </thead>\n",
       "  <tbody>\n",
       "    <tr>\n",
       "      <th>0</th>\n",
       "      <td>0</td>\n",
       "      <td>C10</td>\n",
       "      <td>atorvastatin</td>\n",
       "      <td>B01</td>\n",
       "      <td>warfarin</td>\n",
       "      <td>1</td>\n",
       "      <td>0</td>\n",
       "    </tr>\n",
       "    <tr>\n",
       "      <th>1</th>\n",
       "      <td>1</td>\n",
       "      <td>C10</td>\n",
       "      <td>atorvastatin</td>\n",
       "      <td>B01</td>\n",
       "      <td>dalteparin</td>\n",
       "      <td>0</td>\n",
       "      <td>0</td>\n",
       "    </tr>\n",
       "    <tr>\n",
       "      <th>2</th>\n",
       "      <td>2</td>\n",
       "      <td>C10</td>\n",
       "      <td>atorvastatin</td>\n",
       "      <td>B01</td>\n",
       "      <td>enoxaparin</td>\n",
       "      <td>0</td>\n",
       "      <td>0</td>\n",
       "    </tr>\n",
       "    <tr>\n",
       "      <th>3</th>\n",
       "      <td>3</td>\n",
       "      <td>C10</td>\n",
       "      <td>atorvastatin</td>\n",
       "      <td>B01</td>\n",
       "      <td>heparin</td>\n",
       "      <td>0</td>\n",
       "      <td>0</td>\n",
       "    </tr>\n",
       "    <tr>\n",
       "      <th>4</th>\n",
       "      <td>4</td>\n",
       "      <td>C10</td>\n",
       "      <td>atorvastatin</td>\n",
       "      <td>B01</td>\n",
       "      <td>tinzaparin</td>\n",
       "      <td>0</td>\n",
       "      <td>0</td>\n",
       "    </tr>\n",
       "    <tr>\n",
       "      <th>...</th>\n",
       "      <td>...</td>\n",
       "      <td>...</td>\n",
       "      <td>...</td>\n",
       "      <td>...</td>\n",
       "      <td>...</td>\n",
       "      <td>...</td>\n",
       "      <td>...</td>\n",
       "    </tr>\n",
       "    <tr>\n",
       "      <th>19647</th>\n",
       "      <td>6495</td>\n",
       "      <td>C01</td>\n",
       "      <td>regadenoson</td>\n",
       "      <td>G04</td>\n",
       "      <td>Silodosin</td>\n",
       "      <td>0</td>\n",
       "      <td>0</td>\n",
       "    </tr>\n",
       "    <tr>\n",
       "      <th>19648</th>\n",
       "      <td>6496</td>\n",
       "      <td>C01</td>\n",
       "      <td>regadenoson</td>\n",
       "      <td>G04</td>\n",
       "      <td>Tamsulosin</td>\n",
       "      <td>0</td>\n",
       "      <td>0</td>\n",
       "    </tr>\n",
       "    <tr>\n",
       "      <th>19649</th>\n",
       "      <td>6497</td>\n",
       "      <td>C01</td>\n",
       "      <td>regadenoson</td>\n",
       "      <td>G04</td>\n",
       "      <td>Terazosin</td>\n",
       "      <td>0</td>\n",
       "      <td>0</td>\n",
       "    </tr>\n",
       "    <tr>\n",
       "      <th>19650</th>\n",
       "      <td>6498</td>\n",
       "      <td>C01</td>\n",
       "      <td>regadenoson</td>\n",
       "      <td>G04</td>\n",
       "      <td>Dutasteride</td>\n",
       "      <td>0</td>\n",
       "      <td>0</td>\n",
       "    </tr>\n",
       "    <tr>\n",
       "      <th>19651</th>\n",
       "      <td>6499</td>\n",
       "      <td>C01</td>\n",
       "      <td>regadenoson</td>\n",
       "      <td>G04</td>\n",
       "      <td>Finasteride</td>\n",
       "      <td>0</td>\n",
       "      <td>0</td>\n",
       "    </tr>\n",
       "  </tbody>\n",
       "</table>\n",
       "<p>19652 rows × 7 columns</p>\n",
       "</div>"
      ],
      "text/plain": [
       "       Unnamed: 0 ClassA         DrugA ClassB        DrugB  DrugsScore  \\\n",
       "0               0    C10  atorvastatin    B01     warfarin           1   \n",
       "1               1    C10  atorvastatin    B01   dalteparin           0   \n",
       "2               2    C10  atorvastatin    B01   enoxaparin           0   \n",
       "3               3    C10  atorvastatin    B01      heparin           0   \n",
       "4               4    C10  atorvastatin    B01   tinzaparin           0   \n",
       "...           ...    ...           ...    ...          ...         ...   \n",
       "19647        6495    C01   regadenoson    G04    Silodosin           0   \n",
       "19648        6496    C01   regadenoson    G04   Tamsulosin           0   \n",
       "19649        6497    C01   regadenoson    G04    Terazosin           0   \n",
       "19650        6498    C01   regadenoson    G04  Dutasteride           0   \n",
       "19651        6499    C01   regadenoson    G04  Finasteride           0   \n",
       "\n",
       "       WebmdScore  \n",
       "0               0  \n",
       "1               0  \n",
       "2               0  \n",
       "3               0  \n",
       "4               0  \n",
       "...           ...  \n",
       "19647           0  \n",
       "19648           0  \n",
       "19649           0  \n",
       "19650           0  \n",
       "19651           0  \n",
       "\n",
       "[19652 rows x 7 columns]"
      ]
     },
     "execution_count": 12,
     "metadata": {},
     "output_type": "execute_result"
    }
   ],
   "source": [
    "output_df_others"
   ]
  },
  {
   "cell_type": "code",
   "execution_count": 13,
   "id": "72806240-de51-47db-8d1a-acf367421fd7",
   "metadata": {},
   "outputs": [
    {
     "name": "stderr",
     "output_type": "stream",
     "text": [
      "100%|██████████████████████████████████████████████████████████████████████████| 19652/19652 [00:00<00:00, 22469.76it/s]"
     ]
    },
    {
     "name": "stdout",
     "output_type": "stream",
     "text": [
      "Length: 19652\n"
     ]
    },
    {
     "name": "stderr",
     "output_type": "stream",
     "text": [
      "\n"
     ]
    }
   ],
   "source": [
    "drug_list_concatenated_others = []\n",
    "for index, row in tqdm(output_df_others.iterrows(), total=output_df_others.shape[0]):\n",
    "    drug_1 = row[\"DrugA\"]\n",
    "    drug_2 = row[\"DrugB\"]\n",
    "\n",
    "    drug_com = int(row[\"DrugsScore\"])\n",
    "\n",
    "    webmd = int(row[\"WebmdScore\"])\n",
    "\n",
    "    if drug_com == -1 or webmd == -1:\n",
    "        continue\n",
    "\n",
    "    if drug_com == 5:\n",
    "        drug_com = 4\n",
    "        \n",
    "    \n",
    "\n",
    "    drug_list_concatenated_others.append((drug_1, drug_2,drug_com,webmd))\n",
    "print(f\"Length: {len(drug_list_concatenated_others)}\")"
   ]
  },
  {
   "cell_type": "code",
   "execution_count": 14,
   "id": "11581e38-d6b7-429d-91c4-64e3c5824a08",
   "metadata": {},
   "outputs": [
    {
     "name": "stdout",
     "output_type": "stream",
     "text": [
      "0.33628733011357304\n"
     ]
    }
   ],
   "source": [
    "fleiss_score = calculate_fleiss_kappa(drug_list_concatenated_others)\n",
    "print(f\"{fleiss_score}\")"
   ]
  },
  {
   "cell_type": "code",
   "execution_count": null,
   "id": "e9b0311f-85e8-4056-a345-5d73388766fd",
   "metadata": {},
   "outputs": [],
   "source": []
  },
  {
   "cell_type": "code",
   "execution_count": null,
   "id": "d77c4668-2503-4329-8fdd-5ec6b828d487",
   "metadata": {},
   "outputs": [],
   "source": []
  }
 ],
 "metadata": {
  "kernelspec": {
   "display_name": "Python 3 (ipykernel)",
   "language": "python",
   "name": "python3"
  },
  "language_info": {
   "codemirror_mode": {
    "name": "ipython",
    "version": 3
   },
   "file_extension": ".py",
   "mimetype": "text/x-python",
   "name": "python",
   "nbconvert_exporter": "python",
   "pygments_lexer": "ipython3",
   "version": "3.11.5"
  }
 },
 "nbformat": 4,
 "nbformat_minor": 5
}
